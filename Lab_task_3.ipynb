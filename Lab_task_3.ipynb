{
  "nbformat": 4,
  "nbformat_minor": 0,
  "metadata": {
    "colab": {
      "provenance": []
    },
    "kernelspec": {
      "name": "python3",
      "display_name": "Python 3"
    },
    "language_info": {
      "name": "python"
    }
  },
  "cells": [
    {
      "cell_type": "code",
      "execution_count": 1,
      "metadata": {
        "colab": {
          "base_uri": "https://localhost:8080/"
        },
        "id": "-wkbMyZCGxkA",
        "outputId": "b06bdf97-7e2f-4477-8002-fee2e457f580"
      },
      "outputs": [
        {
          "output_type": "stream",
          "name": "stdout",
          "text": [
            "Looking in indexes: https://pypi.org/simple, https://us-python.pkg.dev/colab-wheels/public/simple/\n",
            "Collecting SimPy\n",
            "  Downloading simpy-4.0.1-py2.py3-none-any.whl (29 kB)\n",
            "Installing collected packages: SimPy\n",
            "Successfully installed SimPy-4.0.1\n"
          ]
        }
      ],
      "source": [
        "!pip install SimPy"
      ]
    },
    {
      "cell_type": "code",
      "source": [
        "\"\"\"\n",
        "Bank renege example\n",
        "\n",
        "Covers:\n",
        "\n",
        "- Resources: Resource\n",
        "- Condition events\n",
        "\n",
        "Scenario:\n",
        "  A counter with a random service time and customers who renege. Based on the\n",
        "  program bank08.py from TheBank tutorial of SimPy 2. (KGM)\n",
        "\n",
        "\"\"\"\n",
        "import random\n",
        "\n",
        "import simpy\n",
        "condition_flag = None\n",
        "countt=0\n",
        "RANDOM_SEED = 42\n",
        "NEW_CUSTOMERS = 20  # Total number of customers\n",
        "INTERVAL_CUSTOMERS = 10.0  # Generate new customers roughly every x seconds\n",
        "MIN_PATIENCE = 1  # Min. customer patience\n",
        "MAX_PATIENCE = 3  # Max. customer patience\n",
        "def source(env, number, interval, counter):\n",
        "\n",
        "    \"\"\"Source generates customers randomly\"\"\"\n",
        "    for i in range(number):\n",
        "        c = customer(env, 'Customer%02d' % i, counter, time_in_bank=12.0)\n",
        "        env.process(c)\n",
        "        t = random.expovariate(1.0 / interval)\n",
        "        yield env.timeout(t)\n",
        "    return countt\n",
        "\n",
        "\n",
        "def customer(env, name, counter, time_in_bank):\n",
        "    \"\"\"Customer arrives, is served and leaves.\"\"\"\n",
        "    global countt\n",
        "    global condition_flag\n",
        "    arrive = env.now\n",
        "    print('%7.4f %s: Here I am' % (arrive, name))\n",
        "    countt+=1\n",
        "    with counter.request() as req:\n",
        "        patience = random.uniform(MIN_PATIENCE, MAX_PATIENCE)\n",
        "        # Wait for the counter or abort at the end of our tether\n",
        "        results = yield req | env.timeout(patience)\n",
        "\n",
        "        wait = env.now - arrive\n",
        "\n",
        "        if req in results:\n",
        "            # We got to the counter\n",
        "            print('%7.4f %s: Waited %6.3f' % (env.now, name, wait))\n",
        "\n",
        "            tib = random.expovariate(1.0 / time_in_bank)\n",
        "            yield env.timeout(tib)\n",
        "            print('%7.4f %s: Finished' % (env.now, name))\n",
        "\n",
        "        else:\n",
        "            # We reneged\n",
        "            if countt>5:\n",
        "              for i in range(20):\n",
        "                counter = simpy.Resource(env, capacity=i+1)\n",
        "              print('%7.4f %s:counter opened %6.3f' % (env.now, counter,wait))            \n",
        "            #print('%7.4f %s: RENEGED after %6.3f' % (env.now, name, wait))\n",
        "#print('%7.4f %s: Here I am' % (arrive, name))\n",
        "#print(countt)\n",
        "# Setup and start the simulation\n",
        "print('Bank renege')\n",
        "random.seed(RANDOM_SEED)\n",
        "env = simpy.Environment()\n",
        "\n",
        "# Start processes and run\n",
        "#countt=source(env, NEW_CUSTOMERS, INTERVAL_CUSTOMERS, counter)\n",
        "\n",
        "counter = simpy.Resource(env, capacity=1)\n",
        "\n",
        "env.process(source(env, NEW_CUSTOMERS, INTERVAL_CUSTOMERS, counter))\n",
        "env.run()"
      ],
      "metadata": {
        "colab": {
          "base_uri": "https://localhost:8080/"
        },
        "id": "GdIiGs_vG6l3",
        "outputId": "6cca604f-7e61-41a9-aca6-0b5d738d69d1"
      },
      "execution_count": 2,
      "outputs": [
        {
          "output_type": "stream",
          "name": "stdout",
          "text": [
            "Bank renege\n",
            " 0.0000 Customer00: Here I am\n",
            " 0.0000 Customer00: Waited  0.000\n",
            " 3.8595 Customer00: Finished\n",
            "10.2006 Customer01: Here I am\n",
            "10.2006 Customer01: Waited  0.000\n",
            "12.7265 Customer02: Here I am\n",
            "23.7507 Customer01: Finished\n",
            "34.9993 Customer03: Here I am\n",
            "34.9993 Customer03: Waited  0.000\n",
            "37.9599 Customer03: Finished\n",
            "40.4798 Customer04: Here I am\n",
            "40.4798 Customer04: Waited  0.000\n",
            "43.1401 Customer04: Finished\n",
            "47.5190 Customer05: Here I am\n",
            "47.5190 Customer05: Waited  0.000\n",
            "50.5073 Customer05: Finished\n",
            "58.0139 Customer06: Here I am\n",
            "58.0139 Customer06: Waited  0.000\n",
            "58.0921 Customer06: Finished\n",
            "66.9120 Customer07: Here I am\n",
            "66.9120 Customer07: Waited  0.000\n",
            "71.9027 Customer07: Finished\n",
            "83.3016 Customer08: Here I am\n",
            "83.3016 Customer08: Waited  0.000\n",
            "84.9915 Customer09: Here I am\n",
            "85.9648 Customer10: Here I am\n",
            "86.1849 <simpy.resources.resource.Resource object at 0x7fbe380eb760>:counter opened  1.193\n",
            "88.1723 <simpy.resources.resource.Resource object at 0x7fbe380eb100>:counter opened  2.207\n",
            "88.2261 Customer08: Finished\n",
            "104.7704 Customer11: Here I am\n",
            "104.7704 Customer11: Waited  0.000\n",
            "113.9907 Customer11: Finished\n",
            "121.2277 Customer12: Here I am\n",
            "121.2277 Customer12: Waited  0.000\n",
            "130.8643 Customer12: Finished\n",
            "157.3898 Customer13: Here I am\n",
            "157.3898 Customer13: Waited  0.000\n",
            "175.0744 Customer14: Here I am\n",
            "177.4836 <simpy.resources.resource.Resource object at 0x7fbe38186610>:counter opened  2.409\n",
            "181.1304 Customer13: Finished\n",
            "183.6866 Customer15: Here I am\n",
            "183.6866 Customer15: Waited  0.000\n",
            "184.1557 Customer16: Here I am\n",
            "184.9872 Customer17: Here I am\n",
            "185.6212 <simpy.resources.resource.Resource object at 0x7fbe381860a0>:counter opened  1.466\n",
            "186.0519 Customer18: Here I am\n",
            "186.5432 <simpy.resources.resource.Resource object at 0x7fbe38186a90>:counter opened  1.556\n",
            "187.7816 <simpy.resources.resource.Resource object at 0x7fbe38186100>:counter opened  1.730\n",
            "187.7861 Customer15: Finished\n",
            "196.1493 Customer19: Here I am\n",
            "196.1493 Customer19: Waited  0.000\n",
            "199.8762 Customer19: Finished\n"
          ]
        }
      ]
    }
  ]
}